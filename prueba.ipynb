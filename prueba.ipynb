{
 "cells": [
  {
   "cell_type": "code",
   "execution_count": 16,
   "metadata": {},
   "outputs": [],
   "source": [
    "import tweepy\n",
    "import requests\n",
    "from PIL import Image\n",
    "from io import BytesIO"
   ]
  },
  {
   "cell_type": "code",
   "execution_count": 14,
   "metadata": {},
   "outputs": [],
   "source": [
    "consumer_key = 'dQnzRpHh4JivbXPEdqlZPSCfG'\n",
    "consumer_secret = 'r3HBQne5IL34i9RavgRRsVjfGWOSCqnPbVkvbgqjtZCInrwBSx'\n",
    "access_token = '2750261889-aTtKhMpt9d80VxvN3K30OC0rYL8ZziI4ayNwqwG'\n",
    "access_token_secret = 'jruihApTcdo30SbYE9FrHPpqtKfe1jN236ZmMmABjLPq2'"
   ]
  },
  {
   "cell_type": "code",
   "execution_count": 18,
   "metadata": {},
   "outputs": [
    {
     "ename": "TweepError",
     "evalue": "[{'message': 'You currently have access to Twitter API v2 endpoints and limited v1.1 endpoints only. If you need access to this endpoint, you may need a different access level. You can learn more here: https://developer.twitter.com/en/docs/twitter-api/getting-started/about-twitter-api#v2-access-leve', 'code': 453}]",
     "output_type": "error",
     "traceback": [
      "\u001b[1;31m---------------------------------------------------------------------------\u001b[0m",
      "\u001b[1;31mTweepError\u001b[0m                                Traceback (most recent call last)",
      "\u001b[1;32mc:\\Users\\Nicolas\\Documents\\Cursos\\Python\\Mosaico imagenes\\prueba.ipynb Celda 3\u001b[0m in \u001b[0;36m<cell line: 7>\u001b[1;34m()\u001b[0m\n\u001b[0;32m      <a href='vscode-notebook-cell:/c%3A/Users/Nicolas/Documents/Cursos/Python/Mosaico%20imagenes/prueba.ipynb#W2sZmlsZQ%3D%3D?line=3'>4</a>\u001b[0m api \u001b[39m=\u001b[39m tweepy\u001b[39m.\u001b[39mAPI(auth)\n\u001b[0;32m      <a href='vscode-notebook-cell:/c%3A/Users/Nicolas/Documents/Cursos/Python/Mosaico%20imagenes/prueba.ipynb#W2sZmlsZQ%3D%3D?line=5'>6</a>\u001b[0m \u001b[39m# Obtén los seguidores del usuario específico\u001b[39;00m\n\u001b[1;32m----> <a href='vscode-notebook-cell:/c%3A/Users/Nicolas/Documents/Cursos/Python/Mosaico%20imagenes/prueba.ipynb#W2sZmlsZQ%3D%3D?line=6'>7</a>\u001b[0m followers \u001b[39m=\u001b[39m api\u001b[39m.\u001b[39;49mhome_timeline(user_id\u001b[39m=\u001b[39;49m\u001b[39m'\u001b[39;49m\u001b[39msupernickgross\u001b[39;49m\u001b[39m'\u001b[39;49m)\n",
      "File \u001b[1;32mc:\\Users\\Nicolas\\AppData\\Local\\Programs\\Python\\Python39\\lib\\site-packages\\tweepy\\binder.py:253\u001b[0m, in \u001b[0;36mbind_api.<locals>._call\u001b[1;34m(*args, **kwargs)\u001b[0m\n\u001b[0;32m    251\u001b[0m         \u001b[39mreturn\u001b[39;00m method\n\u001b[0;32m    252\u001b[0m     \u001b[39melse\u001b[39;00m:\n\u001b[1;32m--> 253\u001b[0m         \u001b[39mreturn\u001b[39;00m method\u001b[39m.\u001b[39;49mexecute()\n\u001b[0;32m    254\u001b[0m \u001b[39mfinally\u001b[39;00m:\n\u001b[0;32m    255\u001b[0m     method\u001b[39m.\u001b[39msession\u001b[39m.\u001b[39mclose()\n",
      "File \u001b[1;32mc:\\Users\\Nicolas\\AppData\\Local\\Programs\\Python\\Python39\\lib\\site-packages\\tweepy\\binder.py:234\u001b[0m, in \u001b[0;36mbind_api.<locals>.APIMethod.execute\u001b[1;34m(self)\u001b[0m\n\u001b[0;32m    232\u001b[0m         \u001b[39mraise\u001b[39;00m RateLimitError(error_msg, resp)\n\u001b[0;32m    233\u001b[0m     \u001b[39melse\u001b[39;00m:\n\u001b[1;32m--> 234\u001b[0m         \u001b[39mraise\u001b[39;00m TweepError(error_msg, resp, api_code\u001b[39m=\u001b[39mapi_error_code)\n\u001b[0;32m    236\u001b[0m \u001b[39m# Parse the response payload\u001b[39;00m\n\u001b[0;32m    237\u001b[0m \u001b[39mself\u001b[39m\u001b[39m.\u001b[39mreturn_cursors \u001b[39m=\u001b[39m (\u001b[39mself\u001b[39m\u001b[39m.\u001b[39mreturn_cursors \u001b[39mor\u001b[39;00m\n\u001b[0;32m    238\u001b[0m                        \u001b[39m'\u001b[39m\u001b[39mcursor\u001b[39m\u001b[39m'\u001b[39m \u001b[39min\u001b[39;00m \u001b[39mself\u001b[39m\u001b[39m.\u001b[39msession\u001b[39m.\u001b[39mparams \u001b[39mor\u001b[39;00m \u001b[39m'\u001b[39m\u001b[39mnext\u001b[39m\u001b[39m'\u001b[39m \u001b[39min\u001b[39;00m \u001b[39mself\u001b[39m\u001b[39m.\u001b[39msession\u001b[39m.\u001b[39mparams)\n",
      "\u001b[1;31mTweepError\u001b[0m: [{'message': 'You currently have access to Twitter API v2 endpoints and limited v1.1 endpoints only. If you need access to this endpoint, you may need a different access level. You can learn more here: https://developer.twitter.com/en/docs/twitter-api/getting-started/about-twitter-api#v2-access-leve', 'code': 453}]"
     ]
    }
   ],
   "source": [
    "auth = tweepy.OAuthHandler(consumer_key, consumer_secret)\n",
    "auth.set_access_token(access_token, access_token_secret)\n",
    "\n",
    "api = tweepy.API(auth)\n",
    "# bearer token AAAAAAAAAAAAAAAAAAAAAAbebQEAAAAAyKh6apqFiWMRz7dDeY5%2BjwOP%2B%2F0%3Dj0AthgTjjHSBlEW3txnfCK2NR9RgQQBzKJoq8mfN8YNPybC000\n",
    "\n",
    "# Obtén los seguidores del usuario específico\n",
    "followers = api.home_timeline(user_id='supernickgross')"
   ]
  }
 ],
 "metadata": {
  "kernelspec": {
   "display_name": "Python 3.9.7 64-bit",
   "language": "python",
   "name": "python3"
  },
  "language_info": {
   "codemirror_mode": {
    "name": "ipython",
    "version": 3
   },
   "file_extension": ".py",
   "mimetype": "text/x-python",
   "name": "python",
   "nbconvert_exporter": "python",
   "pygments_lexer": "ipython3",
   "version": "3.9.7"
  },
  "orig_nbformat": 4,
  "vscode": {
   "interpreter": {
    "hash": "9ecad590614c3972c0eb338fd632b89622f073343c4162b4ec281d58f6cd9557"
   }
  }
 },
 "nbformat": 4,
 "nbformat_minor": 2
}
